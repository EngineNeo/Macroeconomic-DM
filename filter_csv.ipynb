{
 "cells": [
  {
   "cell_type": "code",
   "execution_count": 5,
   "metadata": {},
   "outputs": [],
   "source": [
    "import csv\n",
    "import pycountry\n",
    "\n",
    "def get_excluded_countries():\n",
    "    countries = [country.name for country in pycountry.countries]\n",
    "    country_abbreviations = [country.alpha_2 for country in pycountry.countries] + [country.alpha_3 for country in pycountry.countries]\n",
    "    country_abbreviations += ['UK', 'U.K.', 'Eurozone', 'EUR', 'Euro Zone', 'European', 'Europe']  # Special cases\n",
    "    return countries + country_abbreviations\n",
    "\n",
    "excluded_countries = get_excluded_countries()\n",
    "excluded_countries.remove(\"United States\")  # Keep the United States in the list\n",
    "\n",
    "def is_relevant_line(headline, content, keywords):\n",
    "    if any(country in headline or country in content for country in excluded_countries):\n",
    "        return False\n",
    "\n",
    "    return any(keyword in headline or keyword in content for keyword in keywords)\n",
    "\n",
    "keywords = [\n",
    "    \"Gross Domestic Product\", \"GDP\", \"Unemployment Rate\", \"Inflation Rate\",\n",
    "    \"Consumer Price Index\", \"CPI\", \"Producer Price Index\", \"PPI\", \"Interest Rates\",\n",
    "    \"Balance of Trade\", \"Government Debt\", \"Budget Deficit\", \"Surplus\", \"Exchange Rates\",\n",
    "    \"Money Supply\", \"Industrial Production\", \"Retail Sales\", \"Housing Starts\"\n",
    "]\n",
    "\n",
    "# Process the CSV data\n",
    "input_file = 'macroeconomic_news.csv'\n",
    "output_file = 'macroeconomic_news_filtered.csv'\n",
    "\n",
    "with open(input_file, 'r', newline='', encoding='utf-8') as infile, open(output_file, 'w', newline='', encoding='utf-8') as outfile:\n",
    "    reader = csv.reader(infile)\n",
    "    writer = csv.writer(outfile)\n",
    "    writer.writerow([\"Date\", \"Headline\", \"Content\"])  # Write header\n",
    "\n",
    "    for row in reader:\n",
    "        date, headline, content = row\n",
    "        if is_relevant_line(headline, content, keywords):\n",
    "            writer.writerow([date, headline, content])\n"
   ]
  }
 ],
 "metadata": {
  "kernelspec": {
   "display_name": "webscraping",
   "language": "python",
   "name": "python3"
  },
  "language_info": {
   "codemirror_mode": {
    "name": "ipython",
    "version": 3
   },
   "file_extension": ".py",
   "mimetype": "text/x-python",
   "name": "python",
   "nbconvert_exporter": "python",
   "pygments_lexer": "ipython3",
   "version": "3.12.3"
  }
 },
 "nbformat": 4,
 "nbformat_minor": 2
}
